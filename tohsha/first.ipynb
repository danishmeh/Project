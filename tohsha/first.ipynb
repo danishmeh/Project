{
 "cells": [
  {
   "cell_type": "code",
   "execution_count": 2,
   "metadata": {},
   "outputs": [],
   "source": [
    "import pandas as pd\n",
    "import numpy as np\n",
    "import matplotlib.pyplot as plt"
   ]
  },
  {
   "cell_type": "code",
   "execution_count": 3,
   "metadata": {},
   "outputs": [
    {
     "data": {
      "text/html": [
       "<div>\n",
       "<style scoped>\n",
       "    .dataframe tbody tr th:only-of-type {\n",
       "        vertical-align: middle;\n",
       "    }\n",
       "\n",
       "    .dataframe tbody tr th {\n",
       "        vertical-align: top;\n",
       "    }\n",
       "\n",
       "    .dataframe thead th {\n",
       "        text-align: right;\n",
       "    }\n",
       "</style>\n",
       "<table border=\"1\" class=\"dataframe\">\n",
       "  <thead>\n",
       "    <tr style=\"text-align: right;\">\n",
       "      <th></th>\n",
       "      <th>Detail of Gifts</th>\n",
       "      <th>Item Category</th>\n",
       "      <th>Name of Recipient</th>\n",
       "      <th>Affiliation</th>\n",
       "      <th>Date</th>\n",
       "      <th>Assessed Value</th>\n",
       "      <th>Retention Cost</th>\n",
       "      <th>Retained</th>\n",
       "      <th>Remarks</th>\n",
       "    </tr>\n",
       "  </thead>\n",
       "  <tbody>\n",
       "    <tr>\n",
       "      <th>0</th>\n",
       "      <td>Two  small  silver\\nBowls</td>\n",
       "      <td>Decoration Pieces</td>\n",
       "      <td>Mr.  Abdul  Sattar,  Minister  for  Foreign\\nA...</td>\n",
       "      <td>Gen. Musharrafarraf</td>\n",
       "      <td>1/8/2002</td>\n",
       "      <td>5000.0</td>\n",
       "      <td>0.0</td>\n",
       "      <td>Yes</td>\n",
       "      <td>Yes</td>\n",
       "    </tr>\n",
       "    <tr>\n",
       "      <th>1</th>\n",
       "      <td>One Pilot Pen with\\nink</td>\n",
       "      <td>Pen</td>\n",
       "      <td>Mr.  Abdul  Sattar,  Minister  for  Foreign\\nA...</td>\n",
       "      <td>Gen. Musharraf</td>\n",
       "      <td>1/8/2002</td>\n",
       "      <td>3500.0</td>\n",
       "      <td>0.0</td>\n",
       "      <td>Yes</td>\n",
       "      <td>Yes</td>\n",
       "    </tr>\n",
       "    <tr>\n",
       "      <th>2</th>\n",
       "      <td>One silver vase</td>\n",
       "      <td>Decoration Pieces</td>\n",
       "      <td>Mr. Shaukat Aziz, Minister for Finance</td>\n",
       "      <td>Gen. Musharraf</td>\n",
       "      <td>1/9/2002</td>\n",
       "      <td>7500.0</td>\n",
       "      <td>0.0</td>\n",
       "      <td>Yes</td>\n",
       "      <td>Yes</td>\n",
       "    </tr>\n",
       "    <tr>\n",
       "      <th>3</th>\n",
       "      <td>One  (decoration)\\nfolding Screen</td>\n",
       "      <td>Decoration Pieces</td>\n",
       "      <td>Mr.  Abdul Sattar,  Minister  for  Foreign\\nAf...</td>\n",
       "      <td>Gen. Musharraf</td>\n",
       "      <td>1/15/2002</td>\n",
       "      <td>2200.0</td>\n",
       "      <td>0.0</td>\n",
       "      <td>Yes</td>\n",
       "      <td>Yes</td>\n",
       "    </tr>\n",
       "    <tr>\n",
       "      <th>4</th>\n",
       "      <td>One  Decoration\\nPiece</td>\n",
       "      <td>Decoration Pieces</td>\n",
       "      <td>Mr.  Abdul  Sattar,  Minister  for  Foreign\\nA...</td>\n",
       "      <td>Gen. Musharraf</td>\n",
       "      <td>1/22/2002</td>\n",
       "      <td>2000.0</td>\n",
       "      <td>0.0</td>\n",
       "      <td>Yes</td>\n",
       "      <td>Yes</td>\n",
       "    </tr>\n",
       "  </tbody>\n",
       "</table>\n",
       "</div>"
      ],
      "text/plain": [
       "                     Detail of Gifts      Item Category  \\\n",
       "0          Two  small  silver\\nBowls  Decoration Pieces   \n",
       "1            One Pilot Pen with\\nink                Pen   \n",
       "2                    One silver vase  Decoration Pieces   \n",
       "3  One  (decoration)\\nfolding Screen  Decoration Pieces   \n",
       "4             One  Decoration\\nPiece  Decoration Pieces   \n",
       "\n",
       "                                   Name of Recipient          Affiliation  \\\n",
       "0  Mr.  Abdul  Sattar,  Minister  for  Foreign\\nA...  Gen. Musharrafarraf   \n",
       "1  Mr.  Abdul  Sattar,  Minister  for  Foreign\\nA...       Gen. Musharraf   \n",
       "2             Mr. Shaukat Aziz, Minister for Finance       Gen. Musharraf   \n",
       "3  Mr.  Abdul Sattar,  Minister  for  Foreign\\nAf...       Gen. Musharraf   \n",
       "4  Mr.  Abdul  Sattar,  Minister  for  Foreign\\nA...       Gen. Musharraf   \n",
       "\n",
       "        Date  Assessed Value  Retention Cost Retained Remarks  \n",
       "0   1/8/2002          5000.0             0.0      Yes     Yes  \n",
       "1   1/8/2002          3500.0             0.0      Yes     Yes  \n",
       "2   1/9/2002          7500.0             0.0      Yes     Yes  \n",
       "3  1/15/2002          2200.0             0.0      Yes     Yes  \n",
       "4  1/22/2002          2000.0             0.0      Yes     Yes  "
      ]
     },
     "execution_count": 3,
     "metadata": {},
     "output_type": "execute_result"
    }
   ],
   "source": [
    "df = pd.read_csv(\"tosha.csv\")\n",
    "df.head()"
   ]
  },
  {
   "cell_type": "code",
   "execution_count": 4,
   "metadata": {},
   "outputs": [
    {
     "name": "stdout",
     "output_type": "stream",
     "text": [
      "<class 'pandas.core.frame.DataFrame'>\n",
      "RangeIndex: 4214 entries, 0 to 4213\n",
      "Data columns (total 9 columns):\n",
      " #   Column             Non-Null Count  Dtype  \n",
      "---  ------             --------------  -----  \n",
      " 0   Detail of Gifts    4208 non-null   object \n",
      " 1   Item Category      2338 non-null   object \n",
      " 2   Name of Recipient  4214 non-null   object \n",
      " 3   Affiliation        3207 non-null   object \n",
      " 4   Date               4211 non-null   object \n",
      " 5   Assessed Value     4213 non-null   float64\n",
      " 6   Retention Cost     4205 non-null   float64\n",
      " 7   Retained           4203 non-null   object \n",
      " 8   Remarks            4203 non-null   object \n",
      "dtypes: float64(2), object(7)\n",
      "memory usage: 296.4+ KB\n"
     ]
    }
   ],
   "source": [
    "df.info()"
   ]
  },
  {
   "cell_type": "code",
   "execution_count": 5,
   "metadata": {},
   "outputs": [],
   "source": [
    "df.rename(lambda x: x.lower().strip().replace(' ', '_'), \n",
    "            axis='columns', inplace=True)"
   ]
  },
  {
   "cell_type": "code",
   "execution_count": 6,
   "metadata": {},
   "outputs": [
    {
     "data": {
      "text/plain": [
       "detail_of_gifts         6\n",
       "item_category        1876\n",
       "name_of_recipient       0\n",
       "affiliation          1007\n",
       "date                    3\n",
       "assessed_value          1\n",
       "retention_cost          9\n",
       "retained               11\n",
       "remarks                11\n",
       "dtype: int64"
      ]
     },
     "execution_count": 6,
     "metadata": {},
     "output_type": "execute_result"
    }
   ],
   "source": [
    "df.isnull().sum()"
   ]
  },
  {
   "cell_type": "code",
   "execution_count": 7,
   "metadata": {},
   "outputs": [
    {
     "data": {
      "text/plain": [
       "detail_of_gifts      3248\n",
       "item_category          22\n",
       "name_of_recipient    2047\n",
       "affiliation            12\n",
       "date                 1450\n",
       "assessed_value        571\n",
       "retention_cost        421\n",
       "retained               72\n",
       "remarks               229\n",
       "dtype: int64"
      ]
     },
     "execution_count": 7,
     "metadata": {},
     "output_type": "execute_result"
    }
   ],
   "source": [
    "df.nunique()"
   ]
  },
  {
   "cell_type": "code",
   "execution_count": 8,
   "metadata": {},
   "outputs": [
    {
     "data": {
      "text/plain": [
       "Index(['detail_of_gifts', 'item_category', 'name_of_recipient', 'affiliation',\n",
       "       'date', 'assessed_value', 'retention_cost', 'retained', 'remarks'],\n",
       "      dtype='object')"
      ]
     },
     "execution_count": 8,
     "metadata": {},
     "output_type": "execute_result"
    }
   ],
   "source": [
    "df.columns"
   ]
  },
  {
   "cell_type": "code",
   "execution_count": 9,
   "metadata": {},
   "outputs": [
    {
     "ename": "KeyError",
     "evalue": "'Name of Recipient'",
     "output_type": "error",
     "traceback": [
      "\u001b[1;31m---------------------------------------------------------------------------\u001b[0m",
      "\u001b[1;31mKeyError\u001b[0m                                  Traceback (most recent call last)",
      "File \u001b[1;32mc:\\Users\\lenovo\\AppData\\Local\\Programs\\Python\\Python310\\lib\\site-packages\\pandas\\core\\indexes\\base.py:3803\u001b[0m, in \u001b[0;36mIndex.get_loc\u001b[1;34m(self, key, method, tolerance)\u001b[0m\n\u001b[0;32m   3802\u001b[0m \u001b[39mtry\u001b[39;00m:\n\u001b[1;32m-> 3803\u001b[0m     \u001b[39mreturn\u001b[39;00m \u001b[39mself\u001b[39;49m\u001b[39m.\u001b[39;49m_engine\u001b[39m.\u001b[39;49mget_loc(casted_key)\n\u001b[0;32m   3804\u001b[0m \u001b[39mexcept\u001b[39;00m \u001b[39mKeyError\u001b[39;00m \u001b[39mas\u001b[39;00m err:\n",
      "File \u001b[1;32mc:\\Users\\lenovo\\AppData\\Local\\Programs\\Python\\Python310\\lib\\site-packages\\pandas\\_libs\\index.pyx:138\u001b[0m, in \u001b[0;36mpandas._libs.index.IndexEngine.get_loc\u001b[1;34m()\u001b[0m\n",
      "File \u001b[1;32mc:\\Users\\lenovo\\AppData\\Local\\Programs\\Python\\Python310\\lib\\site-packages\\pandas\\_libs\\index.pyx:165\u001b[0m, in \u001b[0;36mpandas._libs.index.IndexEngine.get_loc\u001b[1;34m()\u001b[0m\n",
      "File \u001b[1;32mpandas\\_libs\\hashtable_class_helper.pxi:5745\u001b[0m, in \u001b[0;36mpandas._libs.hashtable.PyObjectHashTable.get_item\u001b[1;34m()\u001b[0m\n",
      "File \u001b[1;32mpandas\\_libs\\hashtable_class_helper.pxi:5753\u001b[0m, in \u001b[0;36mpandas._libs.hashtable.PyObjectHashTable.get_item\u001b[1;34m()\u001b[0m\n",
      "\u001b[1;31mKeyError\u001b[0m: 'Name of Recipient'",
      "\nThe above exception was the direct cause of the following exception:\n",
      "\u001b[1;31mKeyError\u001b[0m                                  Traceback (most recent call last)",
      "\u001b[1;32mc:\\Users\\lenovo\\Documents\\GitHub\\project\\tohsha\\first.ipynb Cell 8\u001b[0m in \u001b[0;36m1\n\u001b[1;32m----> <a href='vscode-notebook-cell:/c%3A/Users/lenovo/Documents/GitHub/project/tohsha/first.ipynb#X10sZmlsZQ%3D%3D?line=0'>1</a>\u001b[0m df[\u001b[39m'\u001b[39;49m\u001b[39mName of Recipient\u001b[39;49m\u001b[39m'\u001b[39;49m]\u001b[39m.\u001b[39munique\n",
      "File \u001b[1;32mc:\\Users\\lenovo\\AppData\\Local\\Programs\\Python\\Python310\\lib\\site-packages\\pandas\\core\\frame.py:3804\u001b[0m, in \u001b[0;36mDataFrame.__getitem__\u001b[1;34m(self, key)\u001b[0m\n\u001b[0;32m   3802\u001b[0m \u001b[39mif\u001b[39;00m \u001b[39mself\u001b[39m\u001b[39m.\u001b[39mcolumns\u001b[39m.\u001b[39mnlevels \u001b[39m>\u001b[39m \u001b[39m1\u001b[39m:\n\u001b[0;32m   3803\u001b[0m     \u001b[39mreturn\u001b[39;00m \u001b[39mself\u001b[39m\u001b[39m.\u001b[39m_getitem_multilevel(key)\n\u001b[1;32m-> 3804\u001b[0m indexer \u001b[39m=\u001b[39m \u001b[39mself\u001b[39;49m\u001b[39m.\u001b[39;49mcolumns\u001b[39m.\u001b[39;49mget_loc(key)\n\u001b[0;32m   3805\u001b[0m \u001b[39mif\u001b[39;00m is_integer(indexer):\n\u001b[0;32m   3806\u001b[0m     indexer \u001b[39m=\u001b[39m [indexer]\n",
      "File \u001b[1;32mc:\\Users\\lenovo\\AppData\\Local\\Programs\\Python\\Python310\\lib\\site-packages\\pandas\\core\\indexes\\base.py:3805\u001b[0m, in \u001b[0;36mIndex.get_loc\u001b[1;34m(self, key, method, tolerance)\u001b[0m\n\u001b[0;32m   3803\u001b[0m     \u001b[39mreturn\u001b[39;00m \u001b[39mself\u001b[39m\u001b[39m.\u001b[39m_engine\u001b[39m.\u001b[39mget_loc(casted_key)\n\u001b[0;32m   3804\u001b[0m \u001b[39mexcept\u001b[39;00m \u001b[39mKeyError\u001b[39;00m \u001b[39mas\u001b[39;00m err:\n\u001b[1;32m-> 3805\u001b[0m     \u001b[39mraise\u001b[39;00m \u001b[39mKeyError\u001b[39;00m(key) \u001b[39mfrom\u001b[39;00m \u001b[39merr\u001b[39;00m\n\u001b[0;32m   3806\u001b[0m \u001b[39mexcept\u001b[39;00m \u001b[39mTypeError\u001b[39;00m:\n\u001b[0;32m   3807\u001b[0m     \u001b[39m# If we have a listlike key, _check_indexing_error will raise\u001b[39;00m\n\u001b[0;32m   3808\u001b[0m     \u001b[39m#  InvalidIndexError. Otherwise we fall through and re-raise\u001b[39;00m\n\u001b[0;32m   3809\u001b[0m     \u001b[39m#  the TypeError.\u001b[39;00m\n\u001b[0;32m   3810\u001b[0m     \u001b[39mself\u001b[39m\u001b[39m.\u001b[39m_check_indexing_error(key)\n",
      "\u001b[1;31mKeyError\u001b[0m: 'Name of Recipient'"
     ]
    }
   ],
   "source": [
    "df['Name of Recipient'].unique"
   ]
  },
  {
   "cell_type": "code",
   "execution_count": null,
   "metadata": {},
   "outputs": [
    {
     "name": "stdout",
     "output_type": "stream",
     "text": [
      "['Decoration Pieces' 'Pen' 'Decoration Pieces' ... nan nan 'Pen']\n"
     ]
    }
   ],
   "source": [
    "pd.set_option('display.max_rows', 1000)  # Set max_rows option to None\n",
    "print(df['item_category'].values)"
   ]
  },
  {
   "cell_type": "code",
   "execution_count": null,
   "metadata": {},
   "outputs": [
    {
     "data": {
      "text/plain": [
       "array(['Decoration Pieces', 'Pen', 'Decoration Pieces', ..., nan, nan,\n",
       "       'Pen'], dtype=object)"
      ]
     },
     "execution_count": 21,
     "metadata": {},
     "output_type": "execute_result"
    }
   ],
   "source": [
    "df['item_category'].values"
   ]
  },
  {
   "cell_type": "code",
   "execution_count": null,
   "metadata": {},
   "outputs": [
    {
     "data": {
      "text/plain": [
       "array(['Gen. Musharrafarraf', 'Gen. Musharraf', 'Gen. Musharraf', ...,\n",
       "       'PMLN', 'PMLN', 'PPP'], dtype=object)"
      ]
     },
     "execution_count": 241,
     "metadata": {},
     "output_type": "execute_result"
    }
   ],
   "source": [
    "df['Affiliation'].values"
   ]
  },
  {
   "cell_type": "code",
   "execution_count": null,
   "metadata": {},
   "outputs": [],
   "source": [
    "df['Affiliation'].replace('Gen. Musharrafarraf','Gen Musharraf',inplace=True)\n",
    "df['Affiliation'].replace('Gen. Musharraf','Gen Musharraf',inplace=True)\n"
   ]
  },
  {
   "cell_type": "code",
   "execution_count": null,
   "metadata": {},
   "outputs": [
    {
     "ename": "NameError",
     "evalue": "name 'df' is not defined",
     "output_type": "error",
     "traceback": [
      "\u001b[1;31m---------------------------------------------------------------------------\u001b[0m",
      "\u001b[1;31mNameError\u001b[0m                                 Traceback (most recent call last)",
      "\u001b[1;32mc:\\Users\\lenovo\\Documents\\GitHub\\project\\tohsha\\first.ipynb Cell 13\u001b[0m in \u001b[0;36m1\n\u001b[1;32m----> <a href='vscode-notebook-cell:/c%3A/Users/lenovo/Documents/GitHub/project/tohsha/first.ipynb#X15sZmlsZQ%3D%3D?line=0'>1</a>\u001b[0m df[\u001b[39m'\u001b[39m\u001b[39mAffiliation\u001b[39m\u001b[39m'\u001b[39m]\u001b[39m.\u001b[39munique()\n",
      "\u001b[1;31mNameError\u001b[0m: name 'df' is not defined"
     ]
    }
   ],
   "source": [
    "df['Affiliation'].unique()"
   ]
  },
  {
   "cell_type": "code",
   "execution_count": null,
   "metadata": {},
   "outputs": [
    {
     "data": {
      "text/plain": [
       "22"
      ]
     },
     "execution_count": 244,
     "metadata": {},
     "output_type": "execute_result"
    }
   ],
   "source": [
    "df['Item Category'].nunique()"
   ]
  },
  {
   "cell_type": "code",
   "execution_count": null,
   "metadata": {},
   "outputs": [
    {
     "data": {
      "text/plain": [
       "array(['Decoration Pieces', 'Pen', 'Clothes', 'Crockery', 'Carpet', nan,\n",
       "       'Jewellery/Accessories', 'Tech', 'Bags', 'Weapons',\n",
       "       'Cigar/Cigarettes', 'Watch', 'Food', 'Phone', 'Watch, phone',\n",
       "       'Watch, Weapons', 'Technology', 'Watch, Tech', 'Clock',\n",
       "       'Jewellery, Weapons', 'Bag, Jewellery/Accessories', 'Pen, Jewelry',\n",
       "       'Tech, pen'], dtype=object)"
      ]
     },
     "execution_count": 245,
     "metadata": {},
     "output_type": "execute_result"
    }
   ],
   "source": [
    "df['Item Category'].unique()"
   ]
  },
  {
   "cell_type": "code",
   "execution_count": null,
   "metadata": {},
   "outputs": [],
   "source": [
    "df['Item Category']. replace('Jewellery/Accessories','Jewellery',inplace=True)\n",
    "# df['Item Category']. replace(' pen','Pen',inplace=True)"
   ]
  },
  {
   "cell_type": "code",
   "execution_count": null,
   "metadata": {},
   "outputs": [
    {
     "data": {
      "text/plain": [
       "22"
      ]
     },
     "execution_count": 247,
     "metadata": {},
     "output_type": "execute_result"
    }
   ],
   "source": [
    "df['Item Category'].nunique()"
   ]
  },
  {
   "cell_type": "code",
   "execution_count": null,
   "metadata": {},
   "outputs": [
    {
     "data": {
      "text/plain": [
       "array(['Decoration Pieces', 'Pen', 'Clothes', 'Crockery', 'Carpet', nan,\n",
       "       'Jewellery', 'Tech', 'Bags', 'Weapons', 'Cigar/Cigarettes',\n",
       "       'Watch', 'Food', 'Phone', 'Watch, phone', 'Watch, Weapons',\n",
       "       'Technology', 'Watch, Tech', 'Clock', 'Jewellery, Weapons',\n",
       "       'Bag, Jewellery/Accessories', 'Pen, Jewelry', 'Tech, pen'],\n",
       "      dtype=object)"
      ]
     },
     "execution_count": 248,
     "metadata": {},
     "output_type": "execute_result"
    }
   ],
   "source": [
    "df['Item Category'].unique()"
   ]
  },
  {
   "cell_type": "code",
   "execution_count": null,
   "metadata": {},
   "outputs": [],
   "source": []
  },
  {
   "cell_type": "code",
   "execution_count": null,
   "metadata": {},
   "outputs": [],
   "source": []
  }
 ],
 "metadata": {
  "kernelspec": {
   "display_name": "base",
   "language": "python",
   "name": "python3"
  },
  "language_info": {
   "codemirror_mode": {
    "name": "ipython",
    "version": 3
   },
   "file_extension": ".py",
   "mimetype": "text/x-python",
   "name": "python",
   "nbconvert_exporter": "python",
   "pygments_lexer": "ipython3",
   "version": "3.10.8"
  },
  "orig_nbformat": 4
 },
 "nbformat": 4,
 "nbformat_minor": 2
}
