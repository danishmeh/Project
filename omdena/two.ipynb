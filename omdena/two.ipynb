{
 "cells": [
  {
   "cell_type": "code",
   "execution_count": 7,
   "metadata": {},
   "outputs": [],
   "source": [
    "import pandas as pd\n",
    "import numpy as np\n",
    "import matplotlib.pyplot as plt"
   ]
  },
  {
   "cell_type": "code",
   "execution_count": 8,
   "metadata": {},
   "outputs": [
    {
     "data": {
      "text/html": [
       "<div>\n",
       "<style scoped>\n",
       "    .dataframe tbody tr th:only-of-type {\n",
       "        vertical-align: middle;\n",
       "    }\n",
       "\n",
       "    .dataframe tbody tr th {\n",
       "        vertical-align: top;\n",
       "    }\n",
       "\n",
       "    .dataframe thead th {\n",
       "        text-align: right;\n",
       "    }\n",
       "</style>\n",
       "<table border=\"1\" class=\"dataframe\">\n",
       "  <thead>\n",
       "    <tr style=\"text-align: right;\">\n",
       "      <th></th>\n",
       "      <th>STATE</th>\n",
       "      <th>2012</th>\n",
       "      <th>2013</th>\n",
       "      <th>2014</th>\n",
       "      <th>2015</th>\n",
       "      <th>2016</th>\n",
       "    </tr>\n",
       "  </thead>\n",
       "  <tbody>\n",
       "    <tr>\n",
       "      <th>0</th>\n",
       "      <td>ABIA</td>\n",
       "      <td>1112.410</td>\n",
       "      <td>451.24</td>\n",
       "      <td>408.06</td>\n",
       "      <td>633.8187</td>\n",
       "      <td>323.4352</td>\n",
       "    </tr>\n",
       "    <tr>\n",
       "      <th>1</th>\n",
       "      <td>ADAMAWA</td>\n",
       "      <td>2529.120</td>\n",
       "      <td>1932.50</td>\n",
       "      <td>261.05</td>\n",
       "      <td>5540.3856</td>\n",
       "      <td>6059.1100</td>\n",
       "    </tr>\n",
       "    <tr>\n",
       "      <th>2</th>\n",
       "      <td>AKWA IBOM</td>\n",
       "      <td>372.902</td>\n",
       "      <td>402.31</td>\n",
       "      <td>148.65</td>\n",
       "      <td>1358.4505</td>\n",
       "      <td>393.5347</td>\n",
       "    </tr>\n",
       "    <tr>\n",
       "      <th>3</th>\n",
       "      <td>ANAMBRA</td>\n",
       "      <td>724.094</td>\n",
       "      <td>434.20</td>\n",
       "      <td>704.69</td>\n",
       "      <td>1720.8925</td>\n",
       "      <td>965.0590</td>\n",
       "    </tr>\n",
       "    <tr>\n",
       "      <th>4</th>\n",
       "      <td>BAUCHI</td>\n",
       "      <td>1092.570</td>\n",
       "      <td>6270.70</td>\n",
       "      <td>1036.00</td>\n",
       "      <td>2014.7050</td>\n",
       "      <td>3805.7900</td>\n",
       "    </tr>\n",
       "  </tbody>\n",
       "</table>\n",
       "</div>"
      ],
      "text/plain": [
       "       STATE      2012     2013     2014       2015       2016\n",
       "0       ABIA  1112.410   451.24   408.06   633.8187   323.4352\n",
       "1    ADAMAWA  2529.120  1932.50   261.05  5540.3856  6059.1100\n",
       "2  AKWA IBOM   372.902   402.31   148.65  1358.4505   393.5347\n",
       "3    ANAMBRA   724.094   434.20   704.69  1720.8925   965.0590\n",
       "4     BAUCHI  1092.570  6270.70  1036.00  2014.7050  3805.7900"
      ]
     },
     "execution_count": 8,
     "metadata": {},
     "output_type": "execute_result"
    }
   ],
   "source": [
    "df1 = pd.read_csv(\"Crime data-Drug abuse and enforcement 2012 to 2016_quantity_of_narcotics.csv\")\n",
    "df1.head()"
   ]
  },
  {
   "cell_type": "code",
   "execution_count": 9,
   "metadata": {},
   "outputs": [
    {
     "data": {
      "text/plain": [
       "(52, 6)"
      ]
     },
     "execution_count": 9,
     "metadata": {},
     "output_type": "execute_result"
    }
   ],
   "source": [
    "df1.shape"
   ]
  },
  {
   "cell_type": "code",
   "execution_count": 10,
   "metadata": {},
   "outputs": [
    {
     "data": {
      "text/html": [
       "<div>\n",
       "<style scoped>\n",
       "    .dataframe tbody tr th:only-of-type {\n",
       "        vertical-align: middle;\n",
       "    }\n",
       "\n",
       "    .dataframe tbody tr th {\n",
       "        vertical-align: top;\n",
       "    }\n",
       "\n",
       "    .dataframe thead th {\n",
       "        text-align: right;\n",
       "    }\n",
       "</style>\n",
       "<table border=\"1\" class=\"dataframe\">\n",
       "  <thead>\n",
       "    <tr style=\"text-align: right;\">\n",
       "      <th></th>\n",
       "      <th>STATE</th>\n",
       "      <th>2012</th>\n",
       "      <th>2013</th>\n",
       "      <th>2014</th>\n",
       "      <th>2015</th>\n",
       "      <th>2016</th>\n",
       "    </tr>\n",
       "  </thead>\n",
       "  <tbody>\n",
       "    <tr>\n",
       "      <th>0</th>\n",
       "      <td>ABIA</td>\n",
       "      <td>50.0</td>\n",
       "      <td>6.0</td>\n",
       "      <td>15.0</td>\n",
       "      <td>45.0</td>\n",
       "      <td>47.0</td>\n",
       "    </tr>\n",
       "    <tr>\n",
       "      <th>1</th>\n",
       "      <td>ADAMAWA</td>\n",
       "      <td>73.0</td>\n",
       "      <td>127.0</td>\n",
       "      <td>98.0</td>\n",
       "      <td>84.0</td>\n",
       "      <td>120.0</td>\n",
       "    </tr>\n",
       "    <tr>\n",
       "      <th>2</th>\n",
       "      <td>AKWA IBOM</td>\n",
       "      <td>44.0</td>\n",
       "      <td>45.0</td>\n",
       "      <td>32.0</td>\n",
       "      <td>30.0</td>\n",
       "      <td>18.0</td>\n",
       "    </tr>\n",
       "    <tr>\n",
       "      <th>3</th>\n",
       "      <td>ANAMBRA</td>\n",
       "      <td>108.0</td>\n",
       "      <td>9.0</td>\n",
       "      <td>38.0</td>\n",
       "      <td>22.0</td>\n",
       "      <td>50.0</td>\n",
       "    </tr>\n",
       "    <tr>\n",
       "      <th>4</th>\n",
       "      <td>BAUCHI</td>\n",
       "      <td>57.0</td>\n",
       "      <td>23.0</td>\n",
       "      <td>96.0</td>\n",
       "      <td>95.0</td>\n",
       "      <td>46.0</td>\n",
       "    </tr>\n",
       "  </tbody>\n",
       "</table>\n",
       "</div>"
      ],
      "text/plain": [
       "       STATE   2012   2013  2014  2015   2016\n",
       "0       ABIA   50.0    6.0  15.0  45.0   47.0\n",
       "1    ADAMAWA   73.0  127.0  98.0  84.0  120.0\n",
       "2  AKWA IBOM   44.0   45.0  32.0  30.0   18.0\n",
       "3    ANAMBRA  108.0    9.0  38.0  22.0   50.0\n",
       "4     BAUCHI   57.0   23.0  96.0  95.0   46.0"
      ]
     },
     "execution_count": 10,
     "metadata": {},
     "output_type": "execute_result"
    }
   ],
   "source": [
    "df2 = pd.read_csv(\"Crime data-Drug abuse and enforcement 2012 to 2016_NUMBER_OF_SUSPECTS_PROSECUTED.csv\")\n",
    "df2.head()"
   ]
  },
  {
   "cell_type": "code",
   "execution_count": 11,
   "metadata": {},
   "outputs": [
    {
     "data": {
      "text/plain": [
       "(52, 6)"
      ]
     },
     "execution_count": 11,
     "metadata": {},
     "output_type": "execute_result"
    }
   ],
   "source": [
    "df2.shape"
   ]
  },
  {
   "cell_type": "code",
   "execution_count": 12,
   "metadata": {},
   "outputs": [
    {
     "data": {
      "text/html": [
       "<div>\n",
       "<style scoped>\n",
       "    .dataframe tbody tr th:only-of-type {\n",
       "        vertical-align: middle;\n",
       "    }\n",
       "\n",
       "    .dataframe tbody tr th {\n",
       "        vertical-align: top;\n",
       "    }\n",
       "\n",
       "    .dataframe thead th {\n",
       "        text-align: right;\n",
       "    }\n",
       "</style>\n",
       "<table border=\"1\" class=\"dataframe\">\n",
       "  <thead>\n",
       "    <tr style=\"text-align: right;\">\n",
       "      <th></th>\n",
       "      <th>STATE</th>\n",
       "      <th>2012</th>\n",
       "      <th>2013</th>\n",
       "      <th>2014</th>\n",
       "      <th>2015</th>\n",
       "      <th>2016</th>\n",
       "    </tr>\n",
       "  </thead>\n",
       "  <tbody>\n",
       "    <tr>\n",
       "      <th>0</th>\n",
       "      <td>ABIA</td>\n",
       "      <td>108</td>\n",
       "      <td>67</td>\n",
       "      <td>77</td>\n",
       "      <td>76</td>\n",
       "      <td>27</td>\n",
       "    </tr>\n",
       "    <tr>\n",
       "      <th>1</th>\n",
       "      <td>ADAMAWA</td>\n",
       "      <td>189</td>\n",
       "      <td>1989</td>\n",
       "      <td>106</td>\n",
       "      <td>20</td>\n",
       "      <td>54</td>\n",
       "    </tr>\n",
       "    <tr>\n",
       "      <th>2</th>\n",
       "      <td>AKWA IBOM</td>\n",
       "      <td>158</td>\n",
       "      <td>205</td>\n",
       "      <td>12</td>\n",
       "      <td>102</td>\n",
       "      <td>36</td>\n",
       "    </tr>\n",
       "    <tr>\n",
       "      <th>3</th>\n",
       "      <td>ANAMBRA</td>\n",
       "      <td>102</td>\n",
       "      <td>42</td>\n",
       "      <td>74</td>\n",
       "      <td>82</td>\n",
       "      <td>25</td>\n",
       "    </tr>\n",
       "    <tr>\n",
       "      <th>4</th>\n",
       "      <td>BAUCHI</td>\n",
       "      <td>156</td>\n",
       "      <td>86</td>\n",
       "      <td>67</td>\n",
       "      <td>40</td>\n",
       "      <td>3</td>\n",
       "    </tr>\n",
       "  </tbody>\n",
       "</table>\n",
       "</div>"
      ],
      "text/plain": [
       "       STATE  2012  2013  2014  2015  2016\n",
       "0       ABIA   108    67    77    76    27\n",
       "1    ADAMAWA   189  1989   106    20    54\n",
       "2  AKWA IBOM   158   205    12   102    36\n",
       "3    ANAMBRA   102    42    74    82    25\n",
       "4     BAUCHI   156    86    67    40     3"
      ]
     },
     "execution_count": 12,
     "metadata": {},
     "output_type": "execute_result"
    }
   ],
   "source": [
    "df3 = pd.read_csv(\"Crime data-Drug abuse and enforcement 2012 to 2016_Number_of_Counselling_Concluded.csv\")\n",
    "df3.head()"
   ]
  },
  {
   "cell_type": "code",
   "execution_count": 14,
   "metadata": {},
   "outputs": [
    {
     "data": {
      "text/plain": [
       "(43, 6)"
      ]
     },
     "execution_count": 14,
     "metadata": {},
     "output_type": "execute_result"
    }
   ],
   "source": [
    "df3.shape"
   ]
  },
  {
   "cell_type": "code",
   "execution_count": 15,
   "metadata": {},
   "outputs": [
    {
     "data": {
      "text/html": [
       "<div>\n",
       "<style scoped>\n",
       "    .dataframe tbody tr th:only-of-type {\n",
       "        vertical-align: middle;\n",
       "    }\n",
       "\n",
       "    .dataframe tbody tr th {\n",
       "        vertical-align: top;\n",
       "    }\n",
       "\n",
       "    .dataframe thead th {\n",
       "        text-align: right;\n",
       "    }\n",
       "</style>\n",
       "<table border=\"1\" class=\"dataframe\">\n",
       "  <thead>\n",
       "    <tr style=\"text-align: right;\">\n",
       "      <th></th>\n",
       "      <th>STATE</th>\n",
       "      <th>2012</th>\n",
       "      <th>2013</th>\n",
       "      <th>2014</th>\n",
       "      <th>2015</th>\n",
       "      <th>2016</th>\n",
       "    </tr>\n",
       "  </thead>\n",
       "  <tbody>\n",
       "    <tr>\n",
       "      <th>0</th>\n",
       "      <td>ABIA</td>\n",
       "      <td>108</td>\n",
       "      <td>67</td>\n",
       "      <td>77</td>\n",
       "      <td>76</td>\n",
       "      <td>27</td>\n",
       "    </tr>\n",
       "    <tr>\n",
       "      <th>1</th>\n",
       "      <td>ADAMAWA</td>\n",
       "      <td>189</td>\n",
       "      <td>1989</td>\n",
       "      <td>118</td>\n",
       "      <td>21</td>\n",
       "      <td>54</td>\n",
       "    </tr>\n",
       "    <tr>\n",
       "      <th>2</th>\n",
       "      <td>AKWA IBOM</td>\n",
       "      <td>161</td>\n",
       "      <td>211</td>\n",
       "      <td>12</td>\n",
       "      <td>102</td>\n",
       "      <td>36</td>\n",
       "    </tr>\n",
       "    <tr>\n",
       "      <th>3</th>\n",
       "      <td>ANAMBRA</td>\n",
       "      <td>102</td>\n",
       "      <td>51</td>\n",
       "      <td>95</td>\n",
       "      <td>82</td>\n",
       "      <td>25</td>\n",
       "    </tr>\n",
       "    <tr>\n",
       "      <th>4</th>\n",
       "      <td>BAUCHI</td>\n",
       "      <td>156</td>\n",
       "      <td>86</td>\n",
       "      <td>101</td>\n",
       "      <td>40</td>\n",
       "      <td>3</td>\n",
       "    </tr>\n",
       "  </tbody>\n",
       "</table>\n",
       "</div>"
      ],
      "text/plain": [
       "       STATE  2012  2013  2014  2015  2016\n",
       "0       ABIA   108    67    77    76    27\n",
       "1    ADAMAWA   189  1989   118    21    54\n",
       "2  AKWA IBOM   161   211    12   102    36\n",
       "3    ANAMBRA   102    51    95    82    25\n",
       "4     BAUCHI   156    86   101    40     3"
      ]
     },
     "execution_count": 15,
     "metadata": {},
     "output_type": "execute_result"
    }
   ],
   "source": [
    "df4 = pd.read_csv(\"Crime data-Drug abuse and enforcement 2012 to 2016_NUMBER_OF_COUNSELLING_CASES.csv\")\n",
    "df4.head()"
   ]
  },
  {
   "cell_type": "code",
   "execution_count": 16,
   "metadata": {},
   "outputs": [
    {
     "data": {
      "text/plain": [
       "(43, 6)"
      ]
     },
     "execution_count": 16,
     "metadata": {},
     "output_type": "execute_result"
    }
   ],
   "source": [
    "df4.shape"
   ]
  },
  {
   "cell_type": "code",
   "execution_count": 17,
   "metadata": {},
   "outputs": [
    {
     "data": {
      "text/html": [
       "<div>\n",
       "<style scoped>\n",
       "    .dataframe tbody tr th:only-of-type {\n",
       "        vertical-align: middle;\n",
       "    }\n",
       "\n",
       "    .dataframe tbody tr th {\n",
       "        vertical-align: top;\n",
       "    }\n",
       "\n",
       "    .dataframe thead th {\n",
       "        text-align: right;\n",
       "    }\n",
       "</style>\n",
       "<table border=\"1\" class=\"dataframe\">\n",
       "  <thead>\n",
       "    <tr style=\"text-align: right;\">\n",
       "      <th></th>\n",
       "      <th>STATE</th>\n",
       "      <th>2012</th>\n",
       "      <th>2013</th>\n",
       "      <th>2014</th>\n",
       "      <th>2015</th>\n",
       "      <th>2016</th>\n",
       "    </tr>\n",
       "  </thead>\n",
       "  <tbody>\n",
       "    <tr>\n",
       "      <th>0</th>\n",
       "      <td>ABIA</td>\n",
       "      <td>21.0</td>\n",
       "      <td>6.0</td>\n",
       "      <td>13.0</td>\n",
       "      <td>42.0</td>\n",
       "      <td>46.0</td>\n",
       "    </tr>\n",
       "    <tr>\n",
       "      <th>1</th>\n",
       "      <td>ADAMAWA</td>\n",
       "      <td>73.0</td>\n",
       "      <td>127.0</td>\n",
       "      <td>98.0</td>\n",
       "      <td>84.0</td>\n",
       "      <td>120.0</td>\n",
       "    </tr>\n",
       "    <tr>\n",
       "      <th>2</th>\n",
       "      <td>AKWA IBOM</td>\n",
       "      <td>44.0</td>\n",
       "      <td>45.0</td>\n",
       "      <td>30.0</td>\n",
       "      <td>30.0</td>\n",
       "      <td>14.0</td>\n",
       "    </tr>\n",
       "    <tr>\n",
       "      <th>3</th>\n",
       "      <td>ANAMBRA</td>\n",
       "      <td>7.0</td>\n",
       "      <td>9.0</td>\n",
       "      <td>38.0</td>\n",
       "      <td>20.0</td>\n",
       "      <td>50.0</td>\n",
       "    </tr>\n",
       "    <tr>\n",
       "      <th>4</th>\n",
       "      <td>BAUCHI</td>\n",
       "      <td>33.0</td>\n",
       "      <td>23.0</td>\n",
       "      <td>96.0</td>\n",
       "      <td>95.0</td>\n",
       "      <td>46.0</td>\n",
       "    </tr>\n",
       "  </tbody>\n",
       "</table>\n",
       "</div>"
      ],
      "text/plain": [
       "       STATE  2012   2013  2014  2015   2016\n",
       "0       ABIA  21.0    6.0  13.0  42.0   46.0\n",
       "1    ADAMAWA  73.0  127.0  98.0  84.0  120.0\n",
       "2  AKWA IBOM  44.0   45.0  30.0  30.0   14.0\n",
       "3    ANAMBRA   7.0    9.0  38.0  20.0   50.0\n",
       "4     BAUCHI  33.0   23.0  96.0  95.0   46.0"
      ]
     },
     "execution_count": 17,
     "metadata": {},
     "output_type": "execute_result"
    }
   ],
   "source": [
    "df5 = pd.read_csv(\"Crime data-Drug abuse and enforcement 2012 to 2016_NUMBER_OF_CONVICTIONS_SECURED.csv\")\n",
    "df5.head()"
   ]
  },
  {
   "cell_type": "code",
   "execution_count": 18,
   "metadata": {},
   "outputs": [
    {
     "data": {
      "text/plain": [
       "(52, 6)"
      ]
     },
     "execution_count": 18,
     "metadata": {},
     "output_type": "execute_result"
    }
   ],
   "source": [
    "df5.shape"
   ]
  },
  {
   "cell_type": "code",
   "execution_count": 42,
   "metadata": {},
   "outputs": [
    {
     "name": "stdout",
     "output_type": "stream",
     "text": [
      "                 STATE        2012        2013        2014         2015  \\\n",
      "0                 ABIA    1112.410     451.240     408.060     633.8187   \n",
      "1              ADAMAWA    2529.120    1932.500     261.050    5540.3856   \n",
      "2            AKWA IBOM     372.902     402.310     148.650    1358.4505   \n",
      "3              ANAMBRA     724.094     434.200     704.690    1720.8925   \n",
      "4               BAUCHI    1092.570    6270.700    1036.000    2014.7050   \n",
      "5              BAYELSA     130.795     221.970     247.500    1175.0011   \n",
      "6                BENUE    1945.840    1549.100    1184.500    1393.5302   \n",
      "7                BORNO      37.555    6270.700    5805.000     250.3067   \n",
      "8          CROSS RIVER     287.384     272.850     246.740     416.5529   \n",
      "9                DELTA   23418.480    8144.000   24052.050   12875.3920   \n",
      "10              EBONYI     243.464     520.920    1053.000     122.7972   \n",
      "11                 EDO   81541.710   48607.000   21179.000  322272.0400   \n",
      "12               EKITI    6685.230    8684.900    2979.400    5244.5922   \n",
      "13               ENUGU    1002.260    1335.500    1089.800     539.9040   \n",
      "14               GOMBE     239.030     164.030     429.120     174.1874   \n",
      "15                 IMO     526.371    1126.100     337.240     346.3010   \n",
      "16              JIGAWA     180.748    1444.000     116.920     858.7984   \n",
      "17              KADUNA    1692.810    2437.600    6375.100   12989.9600   \n",
      "18                KANO    4107.890    4253.900    7522.200   11265.5680   \n",
      "19             KATSINA    1081.040    1511.500     782.930    4016.2947   \n",
      "20               KEBBI     322.874     392.330     276.620    1706.5699   \n",
      "21                KOGI    4071.290    6499.800    6821.400    2237.3755   \n",
      "22               KWARA     763.627    1159.600     843.060    2815.2937   \n",
      "23               LAGOS    2451.230    9163.900    2057.000    2882.9443   \n",
      "24           NASSARAWA     232.359     275.060     573.350    3185.6822   \n",
      "25               NIGER     517.085    2157.500    1570.800    3722.2120   \n",
      "26                OGUN    8469.990    7457.700    2589.500   10137.4500   \n",
      "27                ONDO   61246.350   51093.000   18908.000  384773.4500   \n",
      "28                OSUN    6421.240    3572.700    5789.200    2167.9000   \n",
      "29                 OYO    7232.080   14770.000   10253.000    9344.9714   \n",
      "30             PLATEAU    1822.030    2186.500    1209.900    2259.6491   \n",
      "31              RIVERS     919.952     397.420     385.920     795.7200   \n",
      "32              SOKOTO     788.344    1146.000    1469.700    1824.1935   \n",
      "33              TARABA     474.232     941.700     397.660    1069.4254   \n",
      "34                YOBE     175.767     172.550     398.680     697.0870   \n",
      "35             ZAMFARA    2177.640    1431.100     512.640     271.4991   \n",
      "36                 FCT    5094.300   13622.000    6440.200   10418.2040   \n",
      "37      DOGI(HQ LAGOS)     142.291     904.000   28506.380    1523.7006   \n",
      "38       JTF(HQ LAGOS)     483.552     195.990      32.749     531.2300   \n",
      "39          MMIA-LAGOS     347.430     878.810     436.100    1125.0170   \n",
      "40          NAIA-ABUJA      25.322      45.536      53.410     185.5919   \n",
      "41  PHIA-PORT HARCOURT       2.958       1.142       4.373       0.0000   \n",
      "42          MAKIA-KANO       6.540       3.000       4.373      96.1400   \n",
      "43          AIIA-ENUGU       0.000      20.614       9.050     887.3590   \n",
      "44            SEAPORTS         NaN         NaN         NaN          NaN   \n",
      "45         WHARF-LAGOS      12.360  129901.000       0.000       0.4000   \n",
      "46        TINCAN-LAGOS      23.580       1.440       0.800    3078.5600   \n",
      "47         ONNE-RIVERS       2.535       7.796       0.771       0.2634   \n",
      "48        BORDER POSTS         NaN         NaN         NaN          NaN   \n",
      "49          SEME-LAGOS     420.243     426.000     137.720    1708.7430   \n",
      "50        IDIROKO-OGUN     100.845     126.300      11.200      53.0000   \n",
      "51               Total  233699.749  344985.508  165652.506  834709.1101   \n",
      "\n",
      "           2016  \n",
      "0      323.4352  \n",
      "1     6059.1100  \n",
      "2      393.5347  \n",
      "3      965.0590  \n",
      "4     3805.7900  \n",
      "5      209.5838  \n",
      "6      902.3500  \n",
      "7     1010.4400  \n",
      "8      399.5600  \n",
      "9     8834.1200  \n",
      "10     184.7907  \n",
      "11   59381.6800  \n",
      "12     736.6600  \n",
      "13    4050.4600  \n",
      "14     549.2767  \n",
      "15     348.3341  \n",
      "16    1325.8900  \n",
      "17   17023.7600  \n",
      "18   39557.4100  \n",
      "19    2747.0100  \n",
      "20    5310.4890  \n",
      "21    7549.8400  \n",
      "22     580.8400  \n",
      "23   16570.4300  \n",
      "24    2465.7800  \n",
      "25    3184.6900  \n",
      "26    3294.5700  \n",
      "27   37361.9300  \n",
      "28    1244.2400  \n",
      "29    2868.1100  \n",
      "30    2006.0900  \n",
      "31     899.4343  \n",
      "32     191.7000  \n",
      "33    1710.3000  \n",
      "34     847.4020  \n",
      "35     439.3176  \n",
      "36   16689.3600  \n",
      "37    1812.6500  \n",
      "38    3453.5500  \n",
      "39     729.4580  \n",
      "40     178.1896  \n",
      "41       0.0000  \n",
      "42      11.3000  \n",
      "43      68.4100  \n",
      "44          NaN  \n",
      "45     166.0030  \n",
      "46     218.3980  \n",
      "47       6.2545  \n",
      "48          NaN  \n",
      "49    4235.0700  \n",
      "50      32.0000  \n",
      "51  262934.0602  \n"
     ]
    }
   ],
   "source": [
    "df6 = pd.read_csv(\"Crime data-Drug abuse and enforcement 2012 to 2016_number_of_arrested_suspests.csv\")\n",
    "pd.set_option(\"display.max_columns\",None)\n",
    "# Display all columns in structured format using head()\n",
    "print(df)"
   ]
  },
  {
   "cell_type": "code",
   "execution_count": 21,
   "metadata": {},
   "outputs": [
    {
     "data": {
      "text/plain": [
       "(67, 16)"
      ]
     },
     "execution_count": 21,
     "metadata": {},
     "output_type": "execute_result"
    }
   ],
   "source": [
    "df6.shape"
   ]
  },
  {
   "cell_type": "code",
   "execution_count": 22,
   "metadata": {},
   "outputs": [
    {
     "data": {
      "text/plain": [
       "STATE      2\n",
       "2012       6\n",
       "2012.1     6\n",
       "2012.2    13\n",
       "2013       6\n",
       "2013.1     6\n",
       "2013.2    13\n",
       "2014       6\n",
       "2014.1    14\n",
       "2014.2    13\n",
       "2015      14\n",
       "2015.1    14\n",
       "2015.2    13\n",
       "2016      15\n",
       "2016.1    15\n",
       "2016.2    13\n",
       "dtype: int64"
      ]
     },
     "execution_count": 22,
     "metadata": {},
     "output_type": "execute_result"
    }
   ],
   "source": [
    "df6.isnull().sum()"
   ]
  },
  {
   "cell_type": "code",
   "execution_count": 23,
   "metadata": {},
   "outputs": [
    {
     "data": {
      "text/plain": [
       "Index(['STATE', '2012', '2012.1', '2012.2', '2013', '2013.1', '2013.2', '2014',\n",
       "       '2014.1', '2014.2', '2015', '2015.1', '2015.2', '2016', '2016.1',\n",
       "       '2016.2'],\n",
       "      dtype='object')"
      ]
     },
     "execution_count": 23,
     "metadata": {},
     "output_type": "execute_result"
    }
   ],
   "source": [
    "df6.columns"
   ]
  },
  {
   "cell_type": "code",
   "execution_count": 27,
   "metadata": {},
   "outputs": [
    {
     "data": {
      "text/html": [
       "<div>\n",
       "<style scoped>\n",
       "    .dataframe tbody tr th:only-of-type {\n",
       "        vertical-align: middle;\n",
       "    }\n",
       "\n",
       "    .dataframe tbody tr th {\n",
       "        vertical-align: top;\n",
       "    }\n",
       "\n",
       "    .dataframe thead th {\n",
       "        text-align: right;\n",
       "    }\n",
       "</style>\n",
       "<table border=\"1\" class=\"dataframe\">\n",
       "  <thead>\n",
       "    <tr style=\"text-align: right;\">\n",
       "      <th></th>\n",
       "      <th>STATE</th>\n",
       "      <th>2012</th>\n",
       "      <th>2012.1</th>\n",
       "      <th>2012.2</th>\n",
       "      <th>2013</th>\n",
       "      <th>2013.1</th>\n",
       "      <th>2013.2</th>\n",
       "      <th>2014</th>\n",
       "      <th>2014.1</th>\n",
       "      <th>2014.2</th>\n",
       "      <th>2015</th>\n",
       "      <th>2015.1</th>\n",
       "      <th>2015.2</th>\n",
       "      <th>2016</th>\n",
       "      <th>2016.1</th>\n",
       "      <th>2016.2</th>\n",
       "    </tr>\n",
       "  </thead>\n",
       "  <tbody>\n",
       "    <tr>\n",
       "      <th>count</th>\n",
       "      <td>65</td>\n",
       "      <td>61</td>\n",
       "      <td>61</td>\n",
       "      <td>54</td>\n",
       "      <td>61</td>\n",
       "      <td>61</td>\n",
       "      <td>54</td>\n",
       "      <td>61</td>\n",
       "      <td>53</td>\n",
       "      <td>54</td>\n",
       "      <td>53</td>\n",
       "      <td>53</td>\n",
       "      <td>54</td>\n",
       "      <td>52</td>\n",
       "      <td>52</td>\n",
       "      <td>54</td>\n",
       "    </tr>\n",
       "    <tr>\n",
       "      <th>unique</th>\n",
       "      <td>64</td>\n",
       "      <td>54</td>\n",
       "      <td>34</td>\n",
       "      <td>48</td>\n",
       "      <td>55</td>\n",
       "      <td>33</td>\n",
       "      <td>47</td>\n",
       "      <td>58</td>\n",
       "      <td>25</td>\n",
       "      <td>50</td>\n",
       "      <td>49</td>\n",
       "      <td>22</td>\n",
       "      <td>50</td>\n",
       "      <td>51</td>\n",
       "      <td>25</td>\n",
       "      <td>47</td>\n",
       "    </tr>\n",
       "    <tr>\n",
       "      <th>top</th>\n",
       "      <td>Total</td>\n",
       "      <td>0.0</td>\n",
       "      <td>0.0</td>\n",
       "      <td>0.0</td>\n",
       "      <td>0.0</td>\n",
       "      <td>0.0</td>\n",
       "      <td>1.0</td>\n",
       "      <td>0.0</td>\n",
       "      <td>0.0</td>\n",
       "      <td>0.0</td>\n",
       "      <td>230.0</td>\n",
       "      <td>0.0</td>\n",
       "      <td>0.0</td>\n",
       "      <td>0.0</td>\n",
       "      <td>0.0</td>\n",
       "      <td>0.0</td>\n",
       "    </tr>\n",
       "    <tr>\n",
       "      <th>freq</th>\n",
       "      <td>2</td>\n",
       "      <td>5</td>\n",
       "      <td>15</td>\n",
       "      <td>5</td>\n",
       "      <td>3</td>\n",
       "      <td>17</td>\n",
       "      <td>3</td>\n",
       "      <td>2</td>\n",
       "      <td>18</td>\n",
       "      <td>3</td>\n",
       "      <td>3</td>\n",
       "      <td>10</td>\n",
       "      <td>3</td>\n",
       "      <td>2</td>\n",
       "      <td>10</td>\n",
       "      <td>4</td>\n",
       "    </tr>\n",
       "  </tbody>\n",
       "</table>\n",
       "</div>"
      ],
      "text/plain": [
       "        STATE 2012 2012.1 2012.2 2013 2013.1 2013.2 2014 2014.1 2014.2   2015  \\\n",
       "count      65   61     61     54   61     61     54   61     53     54     53   \n",
       "unique     64   54     34     48   55     33     47   58     25     50     49   \n",
       "top     Total  0.0    0.0    0.0  0.0    0.0    1.0  0.0    0.0    0.0  230.0   \n",
       "freq        2    5     15      5    3     17      3    2     18      3      3   \n",
       "\n",
       "       2015.1 2015.2 2016 2016.1 2016.2  \n",
       "count      53     54   52     52     54  \n",
       "unique     22     50   51     25     47  \n",
       "top       0.0    0.0  0.0    0.0    0.0  \n",
       "freq       10      3    2     10      4  "
      ]
     },
     "execution_count": 27,
     "metadata": {},
     "output_type": "execute_result"
    }
   ],
   "source": [
    "df6.describe()"
   ]
  },
  {
   "cell_type": "code",
   "execution_count": 31,
   "metadata": {},
   "outputs": [
    {
     "data": {
      "text/plain": [
       "STATE     object\n",
       "2012      object\n",
       "2012.1    object\n",
       "2012.2    object\n",
       "2013      object\n",
       "2013.1    object\n",
       "2013.2    object\n",
       "2014      object\n",
       "2014.1    object\n",
       "2014.2    object\n",
       "2015      object\n",
       "2015.1    object\n",
       "2015.2    object\n",
       "2016      object\n",
       "2016.1    object\n",
       "2016.2    object\n",
       "dtype: object"
      ]
     },
     "execution_count": 31,
     "metadata": {},
     "output_type": "execute_result"
    }
   ],
   "source": [
    "df6.dtypes"
   ]
  },
  {
   "cell_type": "code",
   "execution_count": null,
   "metadata": {},
   "outputs": [],
   "source": [
    "print()"
   ]
  }
 ],
 "metadata": {
  "kernelspec": {
   "display_name": "Python 3",
   "language": "python",
   "name": "python3"
  },
  "language_info": {
   "codemirror_mode": {
    "name": "ipython",
    "version": 3
   },
   "file_extension": ".py",
   "mimetype": "text/x-python",
   "name": "python",
   "nbconvert_exporter": "python",
   "pygments_lexer": "ipython3",
   "version": "3.10.8"
  },
  "orig_nbformat": 4
 },
 "nbformat": 4,
 "nbformat_minor": 2
}
