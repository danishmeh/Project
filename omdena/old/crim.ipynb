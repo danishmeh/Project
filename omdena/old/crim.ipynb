{
 "cells": [
  {
   "cell_type": "code",
   "execution_count": 211,
   "metadata": {},
   "outputs": [],
   "source": [
    "import pandas as pd\n",
    "import numpy as np\n",
    "import matplotlib.pyplot as plt"
   ]
  },
  {
   "cell_type": "code",
   "execution_count": 212,
   "metadata": {},
   "outputs": [
    {
     "data": {
      "text/html": [
       "<div>\n",
       "<style scoped>\n",
       "    .dataframe tbody tr th:only-of-type {\n",
       "        vertical-align: middle;\n",
       "    }\n",
       "\n",
       "    .dataframe tbody tr th {\n",
       "        vertical-align: top;\n",
       "    }\n",
       "\n",
       "    .dataframe thead th {\n",
       "        text-align: right;\n",
       "    }\n",
       "</style>\n",
       "<table border=\"1\" class=\"dataframe\">\n",
       "  <thead>\n",
       "    <tr style=\"text-align: right;\">\n",
       "      <th></th>\n",
       "      <th>data_id</th>\n",
       "      <th>iso</th>\n",
       "      <th>event_id_cnty</th>\n",
       "      <th>event_id_no_cnty</th>\n",
       "      <th>event_date</th>\n",
       "      <th>year</th>\n",
       "      <th>time_precision</th>\n",
       "      <th>event_type</th>\n",
       "      <th>actor1</th>\n",
       "      <th>assoc_actor_1</th>\n",
       "      <th>inter1</th>\n",
       "      <th>interaction</th>\n",
       "      <th>region</th>\n",
       "      <th>country</th>\n",
       "      <th>admin1</th>\n",
       "      <th>admin2</th>\n",
       "      <th>admin3</th>\n",
       "      <th>location</th>\n",
       "      <th>latitude</th>\n",
       "      <th>longitude</th>\n",
       "      <th>geo_precision</th>\n",
       "      <th>source</th>\n",
       "      <th>source_scale</th>\n",
       "      <th>notes</th>\n",
       "      <th>fatalities</th>\n",
       "      <th>timestamp</th>\n",
       "      <th>iso3</th>\n",
       "    </tr>\n",
       "  </thead>\n",
       "  <tbody>\n",
       "    <tr>\n",
       "      <th>0</th>\n",
       "      <td>533240</td>\n",
       "      <td>566</td>\n",
       "      <td>NIG8502</td>\n",
       "      <td>8502</td>\n",
       "      <td>13 December 2015</td>\n",
       "      <td>2015</td>\n",
       "      <td>1</td>\n",
       "      <td>Violence against civilians</td>\n",
       "      <td>Fulani Ethnic Militia (Nigeria)</td>\n",
       "      <td>NaN</td>\n",
       "      <td>4</td>\n",
       "      <td>47</td>\n",
       "      <td>Western Africa</td>\n",
       "      <td>Nigeria</td>\n",
       "      <td>Plateau</td>\n",
       "      <td>Jos South</td>\n",
       "      <td>NaN</td>\n",
       "      <td>Zawan</td>\n",
       "      <td>9.7500</td>\n",
       "      <td>8.8667</td>\n",
       "      <td>1</td>\n",
       "      <td>Vanguard (Lagos)</td>\n",
       "      <td>Subnational</td>\n",
       "      <td>At least 14 people were reportedly killed and ...</td>\n",
       "      <td>14</td>\n",
       "      <td>1518765568</td>\n",
       "      <td>NGA</td>\n",
       "    </tr>\n",
       "    <tr>\n",
       "      <th>1</th>\n",
       "      <td>533203</td>\n",
       "      <td>566</td>\n",
       "      <td>NIG8466</td>\n",
       "      <td>8466</td>\n",
       "      <td>06 December 2015</td>\n",
       "      <td>2015</td>\n",
       "      <td>1</td>\n",
       "      <td>Battle-No change of territory</td>\n",
       "      <td>Fulani Ethnic Militia (Nigeria)</td>\n",
       "      <td>NaN</td>\n",
       "      <td>4</td>\n",
       "      <td>44</td>\n",
       "      <td>Western Africa</td>\n",
       "      <td>Nigeria</td>\n",
       "      <td>Benue</td>\n",
       "      <td>Oju</td>\n",
       "      <td>NaN</td>\n",
       "      <td>Oju</td>\n",
       "      <td>6.8454</td>\n",
       "      <td>8.4174</td>\n",
       "      <td>2</td>\n",
       "      <td>This Day (Lagos)</td>\n",
       "      <td>Subnational</td>\n",
       "      <td>A bloody clash between Fulani herdsmen and far...</td>\n",
       "      <td>6</td>\n",
       "      <td>1518765568</td>\n",
       "      <td>NGA</td>\n",
       "    </tr>\n",
       "    <tr>\n",
       "      <th>2</th>\n",
       "      <td>533199</td>\n",
       "      <td>566</td>\n",
       "      <td>NIG8461</td>\n",
       "      <td>8461</td>\n",
       "      <td>05 December 2015</td>\n",
       "      <td>2015</td>\n",
       "      <td>1</td>\n",
       "      <td>Violence against civilians</td>\n",
       "      <td>Fulani Ethnic Militia (Nigeria)</td>\n",
       "      <td>NaN</td>\n",
       "      <td>4</td>\n",
       "      <td>47</td>\n",
       "      <td>Western Africa</td>\n",
       "      <td>Nigeria</td>\n",
       "      <td>Delta</td>\n",
       "      <td>Ndokwa West</td>\n",
       "      <td>NaN</td>\n",
       "      <td>Onicha</td>\n",
       "      <td>5.8288</td>\n",
       "      <td>6.3929</td>\n",
       "      <td>1</td>\n",
       "      <td>The Sun (Nigeria)</td>\n",
       "      <td>National</td>\n",
       "      <td>Fulanis kidnap three contractors in Onicha on ...</td>\n",
       "      <td>0</td>\n",
       "      <td>1518765568</td>\n",
       "      <td>NGA</td>\n",
       "    </tr>\n",
       "    <tr>\n",
       "      <th>3</th>\n",
       "      <td>1459605</td>\n",
       "      <td>566</td>\n",
       "      <td>NIG8440</td>\n",
       "      <td>8440</td>\n",
       "      <td>01 December 2015</td>\n",
       "      <td>2015</td>\n",
       "      <td>1</td>\n",
       "      <td>Violence against civilians</td>\n",
       "      <td>Fulani Ethnic Militia (Nigeria)</td>\n",
       "      <td>NaN</td>\n",
       "      <td>4</td>\n",
       "      <td>47</td>\n",
       "      <td>Western Africa</td>\n",
       "      <td>Nigeria</td>\n",
       "      <td>Gombe</td>\n",
       "      <td>Billiri</td>\n",
       "      <td>NaN</td>\n",
       "      <td>Polapindi</td>\n",
       "      <td>9.8667</td>\n",
       "      <td>11.1667</td>\n",
       "      <td>1</td>\n",
       "      <td>Leadership (Abuja)</td>\n",
       "      <td>Subnational</td>\n",
       "      <td>Fulani herdsmen attack Polalido-Kandilan in Bi...</td>\n",
       "      <td>1</td>\n",
       "      <td>1524053912</td>\n",
       "      <td>NGA</td>\n",
       "    </tr>\n",
       "    <tr>\n",
       "      <th>4</th>\n",
       "      <td>1252426</td>\n",
       "      <td>566</td>\n",
       "      <td>NIG8436</td>\n",
       "      <td>8436</td>\n",
       "      <td>01 December 2015</td>\n",
       "      <td>2015</td>\n",
       "      <td>1</td>\n",
       "      <td>Battle-No change of territory</td>\n",
       "      <td>Fulani Ethnic Militia (Nigeria)</td>\n",
       "      <td>NaN</td>\n",
       "      <td>4</td>\n",
       "      <td>44</td>\n",
       "      <td>Western Africa</td>\n",
       "      <td>Nigeria</td>\n",
       "      <td>Delta</td>\n",
       "      <td>Isoko North</td>\n",
       "      <td>NaN</td>\n",
       "      <td>Ofagbe</td>\n",
       "      <td>5.5493</td>\n",
       "      <td>6.3427</td>\n",
       "      <td>1</td>\n",
       "      <td>The Nation (Nigeria)</td>\n",
       "      <td>National</td>\n",
       "      <td>Fulanis clash with members of the Ofagbe commu...</td>\n",
       "      <td>1</td>\n",
       "      <td>1523534006</td>\n",
       "      <td>NGA</td>\n",
       "    </tr>\n",
       "  </tbody>\n",
       "</table>\n",
       "</div>"
      ],
      "text/plain": [
       "   data_id  iso event_id_cnty  event_id_no_cnty        event_date  year  \\\n",
       "0   533240  566       NIG8502              8502  13 December 2015  2015   \n",
       "1   533203  566       NIG8466              8466  06 December 2015  2015   \n",
       "2   533199  566       NIG8461              8461  05 December 2015  2015   \n",
       "3  1459605  566       NIG8440              8440  01 December 2015  2015   \n",
       "4  1252426  566       NIG8436              8436  01 December 2015  2015   \n",
       "\n",
       "   time_precision                     event_type  \\\n",
       "0               1     Violence against civilians   \n",
       "1               1  Battle-No change of territory   \n",
       "2               1     Violence against civilians   \n",
       "3               1     Violence against civilians   \n",
       "4               1  Battle-No change of territory   \n",
       "\n",
       "                            actor1  assoc_actor_1  inter1  interaction  \\\n",
       "0  Fulani Ethnic Militia (Nigeria)            NaN       4           47   \n",
       "1  Fulani Ethnic Militia (Nigeria)            NaN       4           44   \n",
       "2  Fulani Ethnic Militia (Nigeria)            NaN       4           47   \n",
       "3  Fulani Ethnic Militia (Nigeria)            NaN       4           47   \n",
       "4  Fulani Ethnic Militia (Nigeria)            NaN       4           44   \n",
       "\n",
       "           region  country   admin1       admin2  admin3   location  latitude  \\\n",
       "0  Western Africa  Nigeria  Plateau    Jos South     NaN      Zawan    9.7500   \n",
       "1  Western Africa  Nigeria    Benue          Oju     NaN        Oju    6.8454   \n",
       "2  Western Africa  Nigeria    Delta  Ndokwa West     NaN     Onicha    5.8288   \n",
       "3  Western Africa  Nigeria    Gombe      Billiri     NaN  Polapindi    9.8667   \n",
       "4  Western Africa  Nigeria    Delta  Isoko North     NaN     Ofagbe    5.5493   \n",
       "\n",
       "   longitude  geo_precision                source source_scale  \\\n",
       "0     8.8667              1      Vanguard (Lagos)  Subnational   \n",
       "1     8.4174              2      This Day (Lagos)  Subnational   \n",
       "2     6.3929              1     The Sun (Nigeria)     National   \n",
       "3    11.1667              1    Leadership (Abuja)  Subnational   \n",
       "4     6.3427              1  The Nation (Nigeria)     National   \n",
       "\n",
       "                                               notes  fatalities   timestamp  \\\n",
       "0  At least 14 people were reportedly killed and ...          14  1518765568   \n",
       "1  A bloody clash between Fulani herdsmen and far...           6  1518765568   \n",
       "2  Fulanis kidnap three contractors in Onicha on ...           0  1518765568   \n",
       "3  Fulani herdsmen attack Polalido-Kandilan in Bi...           1  1524053912   \n",
       "4  Fulanis clash with members of the Ofagbe commu...           1  1523534006   \n",
       "\n",
       "  iso3  \n",
       "0  NGA  \n",
       "1  NGA  \n",
       "2  NGA  \n",
       "3  NGA  \n",
       "4  NGA  "
      ]
     },
     "execution_count": 212,
     "metadata": {},
     "output_type": "execute_result"
    }
   ],
   "source": [
    "df = pd.read_csv(\"Fulani Ethnic Militia Attacks - Location & Event Data - Jan 1 - Dec 31 2015_Nigeria.csv\")\n",
    "pd.set_option('display.max_columns', None)\n",
    "df.head(5)"
   ]
  },
  {
   "cell_type": "code",
   "execution_count": 213,
   "metadata": {},
   "outputs": [
    {
     "data": {
      "text/plain": [
       "(82, 27)"
      ]
     },
     "execution_count": 213,
     "metadata": {},
     "output_type": "execute_result"
    }
   ],
   "source": [
    "df.shape"
   ]
  },
  {
   "cell_type": "code",
   "execution_count": 214,
   "metadata": {},
   "outputs": [
    {
     "data": {
      "text/plain": [
       "data_id              0\n",
       "iso                  0\n",
       "event_id_cnty        0\n",
       "event_id_no_cnty     0\n",
       "event_date           0\n",
       "year                 0\n",
       "time_precision       0\n",
       "event_type           0\n",
       "actor1               0\n",
       "assoc_actor_1       82\n",
       "inter1               0\n",
       "interaction          0\n",
       "region               0\n",
       "country              0\n",
       "admin1               0\n",
       "admin2               0\n",
       "admin3              82\n",
       "location             0\n",
       "latitude             0\n",
       "longitude            0\n",
       "geo_precision        0\n",
       "source               0\n",
       "source_scale         0\n",
       "notes                0\n",
       "fatalities           0\n",
       "timestamp            0\n",
       "iso3                 0\n",
       "dtype: int64"
      ]
     },
     "execution_count": 214,
     "metadata": {},
     "output_type": "execute_result"
    }
   ],
   "source": [
    "df.isnull().sum()"
   ]
  },
  {
   "cell_type": "code",
   "execution_count": 215,
   "metadata": {},
   "outputs": [
    {
     "data": {
      "text/plain": [
       "Index(['data_id', 'iso', 'event_id_cnty', 'event_id_no_cnty', 'event_date',\n",
       "       'year', 'time_precision', 'event_type', 'actor1', 'assoc_actor_1',\n",
       "       'inter1', 'interaction', 'region', 'country', 'admin1', 'admin2',\n",
       "       'admin3', 'location', 'latitude', 'longitude', 'geo_precision',\n",
       "       'source', 'source_scale', 'notes', 'fatalities', 'timestamp', 'iso3'],\n",
       "      dtype='object')"
      ]
     },
     "execution_count": 215,
     "metadata": {},
     "output_type": "execute_result"
    }
   ],
   "source": [
    "df.columns"
   ]
  },
  {
   "cell_type": "code",
   "execution_count": 216,
   "metadata": {},
   "outputs": [
    {
     "data": {
      "text/html": [
       "<div>\n",
       "<style scoped>\n",
       "    .dataframe tbody tr th:only-of-type {\n",
       "        vertical-align: middle;\n",
       "    }\n",
       "\n",
       "    .dataframe tbody tr th {\n",
       "        vertical-align: top;\n",
       "    }\n",
       "\n",
       "    .dataframe thead th {\n",
       "        text-align: right;\n",
       "    }\n",
       "</style>\n",
       "<table border=\"1\" class=\"dataframe\">\n",
       "  <thead>\n",
       "    <tr style=\"text-align: right;\">\n",
       "      <th></th>\n",
       "      <th>data_id</th>\n",
       "      <th>iso</th>\n",
       "      <th>event_id_cnty</th>\n",
       "      <th>event_id_no_cnty</th>\n",
       "      <th>event_date</th>\n",
       "      <th>year</th>\n",
       "      <th>time_precision</th>\n",
       "      <th>event_type</th>\n",
       "      <th>actor1</th>\n",
       "      <th>assoc_actor_1</th>\n",
       "      <th>inter1</th>\n",
       "      <th>interaction</th>\n",
       "      <th>region</th>\n",
       "      <th>country</th>\n",
       "      <th>admin1</th>\n",
       "      <th>admin2</th>\n",
       "      <th>admin3</th>\n",
       "      <th>location</th>\n",
       "      <th>latitude</th>\n",
       "      <th>longitude</th>\n",
       "      <th>geo_precision</th>\n",
       "      <th>source</th>\n",
       "      <th>source_scale</th>\n",
       "      <th>notes</th>\n",
       "      <th>fatalities</th>\n",
       "      <th>timestamp</th>\n",
       "      <th>iso3</th>\n",
       "    </tr>\n",
       "  </thead>\n",
       "  <tbody>\n",
       "    <tr>\n",
       "      <th>0</th>\n",
       "      <td>533240</td>\n",
       "      <td>566</td>\n",
       "      <td>NIG8502</td>\n",
       "      <td>8502</td>\n",
       "      <td>13 December 2015</td>\n",
       "      <td>2015</td>\n",
       "      <td>1</td>\n",
       "      <td>Violence against civilians</td>\n",
       "      <td>Fulani Ethnic Militia (Nigeria)</td>\n",
       "      <td>NaN</td>\n",
       "      <td>4</td>\n",
       "      <td>47</td>\n",
       "      <td>Western Africa</td>\n",
       "      <td>Nigeria</td>\n",
       "      <td>Plateau</td>\n",
       "      <td>Jos South</td>\n",
       "      <td>NaN</td>\n",
       "      <td>Zawan</td>\n",
       "      <td>9.75</td>\n",
       "      <td>8.8667</td>\n",
       "      <td>1</td>\n",
       "      <td>Vanguard (Lagos)</td>\n",
       "      <td>Subnational</td>\n",
       "      <td>At least 14 people were reportedly killed and ...</td>\n",
       "      <td>14</td>\n",
       "      <td>1518765568</td>\n",
       "      <td>NGA</td>\n",
       "    </tr>\n",
       "  </tbody>\n",
       "</table>\n",
       "</div>"
      ],
      "text/plain": [
       "   data_id  iso event_id_cnty  event_id_no_cnty        event_date  year  \\\n",
       "0   533240  566       NIG8502              8502  13 December 2015  2015   \n",
       "\n",
       "   time_precision                  event_type  \\\n",
       "0               1  Violence against civilians   \n",
       "\n",
       "                            actor1  assoc_actor_1  inter1  interaction  \\\n",
       "0  Fulani Ethnic Militia (Nigeria)            NaN       4           47   \n",
       "\n",
       "           region  country   admin1     admin2  admin3 location  latitude  \\\n",
       "0  Western Africa  Nigeria  Plateau  Jos South     NaN    Zawan      9.75   \n",
       "\n",
       "   longitude  geo_precision            source source_scale  \\\n",
       "0     8.8667              1  Vanguard (Lagos)  Subnational   \n",
       "\n",
       "                                               notes  fatalities   timestamp  \\\n",
       "0  At least 14 people were reportedly killed and ...          14  1518765568   \n",
       "\n",
       "  iso3  \n",
       "0  NGA  "
      ]
     },
     "execution_count": 216,
     "metadata": {},
     "output_type": "execute_result"
    }
   ],
   "source": [
    "df.head(1)"
   ]
  },
  {
   "cell_type": "code",
   "execution_count": 217,
   "metadata": {},
   "outputs": [
    {
     "data": {
      "text/plain": [
       "data_id               int64\n",
       "iso                   int64\n",
       "event_id_cnty        object\n",
       "event_id_no_cnty      int64\n",
       "event_date           object\n",
       "year                  int64\n",
       "time_precision        int64\n",
       "event_type           object\n",
       "actor1               object\n",
       "assoc_actor_1       float64\n",
       "inter1                int64\n",
       "interaction           int64\n",
       "region               object\n",
       "country              object\n",
       "admin1               object\n",
       "admin2               object\n",
       "admin3              float64\n",
       "location             object\n",
       "latitude            float64\n",
       "longitude           float64\n",
       "geo_precision         int64\n",
       "source               object\n",
       "source_scale         object\n",
       "notes                object\n",
       "fatalities            int64\n",
       "timestamp             int64\n",
       "iso3                 object\n",
       "dtype: object"
      ]
     },
     "execution_count": 217,
     "metadata": {},
     "output_type": "execute_result"
    }
   ],
   "source": [
    "df.dtypes"
   ]
  },
  {
   "cell_type": "code",
   "execution_count": 218,
   "metadata": {},
   "outputs": [],
   "source": [
    "df.drop(columns=[\"assoc_actor_1\",\"admin3\"],inplace=True)"
   ]
  },
  {
   "cell_type": "code",
   "execution_count": 219,
   "metadata": {},
   "outputs": [
    {
     "data": {
      "text/plain": [
       "(82, 25)"
      ]
     },
     "execution_count": 219,
     "metadata": {},
     "output_type": "execute_result"
    }
   ],
   "source": [
    "df.shape"
   ]
  },
  {
   "cell_type": "code",
   "execution_count": 220,
   "metadata": {},
   "outputs": [
    {
     "data": {
      "text/plain": [
       "data_id             0\n",
       "iso                 0\n",
       "event_id_cnty       0\n",
       "event_id_no_cnty    0\n",
       "event_date          0\n",
       "year                0\n",
       "time_precision      0\n",
       "event_type          0\n",
       "actor1              0\n",
       "inter1              0\n",
       "interaction         0\n",
       "region              0\n",
       "country             0\n",
       "admin1              0\n",
       "admin2              0\n",
       "location            0\n",
       "latitude            0\n",
       "longitude           0\n",
       "geo_precision       0\n",
       "source              0\n",
       "source_scale        0\n",
       "notes               0\n",
       "fatalities          0\n",
       "timestamp           0\n",
       "iso3                0\n",
       "dtype: int64"
      ]
     },
     "execution_count": 220,
     "metadata": {},
     "output_type": "execute_result"
    }
   ],
   "source": [
    "df.isnull().sum()"
   ]
  },
  {
   "cell_type": "code",
   "execution_count": 221,
   "metadata": {},
   "outputs": [
    {
     "name": "stdout",
     "output_type": "stream",
     "text": [
      "Total duplicates: 0\n"
     ]
    }
   ],
   "source": [
    "# Find duplicates\n",
    "duplicates = df.duplicated().sum()\n",
    "\n",
    "# Display the total count of duplicates\n",
    "print(\"Total duplicates:\", duplicates)"
   ]
  },
  {
   "cell_type": "code",
   "execution_count": 222,
   "metadata": {},
   "outputs": [
    {
     "data": {
      "text/plain": [
       "data_id               int64\n",
       "iso                   int64\n",
       "event_id_cnty        object\n",
       "event_id_no_cnty      int64\n",
       "event_date           object\n",
       "year                  int64\n",
       "time_precision        int64\n",
       "event_type           object\n",
       "actor1               object\n",
       "inter1                int64\n",
       "interaction           int64\n",
       "region               object\n",
       "country              object\n",
       "admin1               object\n",
       "admin2               object\n",
       "location             object\n",
       "latitude            float64\n",
       "longitude           float64\n",
       "geo_precision         int64\n",
       "source               object\n",
       "source_scale         object\n",
       "notes                object\n",
       "fatalities            int64\n",
       "timestamp             int64\n",
       "iso3                 object\n",
       "dtype: object"
      ]
     },
     "execution_count": 222,
     "metadata": {},
     "output_type": "execute_result"
    }
   ],
   "source": [
    "df.dtypes"
   ]
  },
  {
   "cell_type": "code",
   "execution_count": 223,
   "metadata": {},
   "outputs": [
    {
     "name": "stderr",
     "output_type": "stream",
     "text": [
      "C:\\Users\\lenovo\\AppData\\Local\\Temp\\ipykernel_4508\\2661842032.py:4: UserWarning: Parsing dates in DD/MM/YYYY format when dayfirst=False (the default) was specified. This may lead to inconsistently parsed dates! Specify a format to ensure consistent parsing.\n",
      "  df['event_date'] = pd.to_datetime(df['event_date'])\n"
     ]
    }
   ],
   "source": [
    "from datetime import datetime\n",
    "# Convert the date column to standardized format\n",
    "df['event_date'] = df['event_date'].apply(lambda x:  datetime.strptime(x, \"%d %B %Y\").strftime(\"%d-%m-%Y\"))\n",
    "df['event_date'] = pd.to_datetime(df['event_date'])\n"
   ]
  },
  {
   "cell_type": "code",
   "execution_count": null,
   "metadata": {},
   "outputs": [],
   "source": []
  },
  {
   "cell_type": "code",
   "execution_count": 224,
   "metadata": {},
   "outputs": [
    {
     "data": {
      "text/html": [
       "<div>\n",
       "<style scoped>\n",
       "    .dataframe tbody tr th:only-of-type {\n",
       "        vertical-align: middle;\n",
       "    }\n",
       "\n",
       "    .dataframe tbody tr th {\n",
       "        vertical-align: top;\n",
       "    }\n",
       "\n",
       "    .dataframe thead th {\n",
       "        text-align: right;\n",
       "    }\n",
       "</style>\n",
       "<table border=\"1\" class=\"dataframe\">\n",
       "  <thead>\n",
       "    <tr style=\"text-align: right;\">\n",
       "      <th></th>\n",
       "      <th>data_id</th>\n",
       "      <th>iso</th>\n",
       "      <th>event_id_cnty</th>\n",
       "      <th>event_id_no_cnty</th>\n",
       "      <th>event_date</th>\n",
       "      <th>year</th>\n",
       "      <th>time_precision</th>\n",
       "      <th>event_type</th>\n",
       "      <th>actor1</th>\n",
       "      <th>inter1</th>\n",
       "      <th>interaction</th>\n",
       "      <th>region</th>\n",
       "      <th>country</th>\n",
       "      <th>admin1</th>\n",
       "      <th>admin2</th>\n",
       "      <th>location</th>\n",
       "      <th>latitude</th>\n",
       "      <th>longitude</th>\n",
       "      <th>geo_precision</th>\n",
       "      <th>source</th>\n",
       "      <th>source_scale</th>\n",
       "      <th>notes</th>\n",
       "      <th>fatalities</th>\n",
       "      <th>timestamp</th>\n",
       "      <th>iso3</th>\n",
       "    </tr>\n",
       "  </thead>\n",
       "  <tbody>\n",
       "    <tr>\n",
       "      <th>0</th>\n",
       "      <td>533240</td>\n",
       "      <td>566</td>\n",
       "      <td>NIG8502</td>\n",
       "      <td>8502</td>\n",
       "      <td>2015-12-13</td>\n",
       "      <td>2015</td>\n",
       "      <td>1</td>\n",
       "      <td>Violence against civilians</td>\n",
       "      <td>Fulani Ethnic Militia (Nigeria)</td>\n",
       "      <td>4</td>\n",
       "      <td>47</td>\n",
       "      <td>Western Africa</td>\n",
       "      <td>Nigeria</td>\n",
       "      <td>Plateau</td>\n",
       "      <td>Jos South</td>\n",
       "      <td>Zawan</td>\n",
       "      <td>9.75</td>\n",
       "      <td>8.8667</td>\n",
       "      <td>1</td>\n",
       "      <td>Vanguard (Lagos)</td>\n",
       "      <td>Subnational</td>\n",
       "      <td>At least 14 people were reportedly killed and ...</td>\n",
       "      <td>14</td>\n",
       "      <td>1518765568</td>\n",
       "      <td>NGA</td>\n",
       "    </tr>\n",
       "  </tbody>\n",
       "</table>\n",
       "</div>"
      ],
      "text/plain": [
       "   data_id  iso event_id_cnty  event_id_no_cnty event_date  year  \\\n",
       "0   533240  566       NIG8502              8502 2015-12-13  2015   \n",
       "\n",
       "   time_precision                  event_type  \\\n",
       "0               1  Violence against civilians   \n",
       "\n",
       "                            actor1  inter1  interaction          region  \\\n",
       "0  Fulani Ethnic Militia (Nigeria)       4           47  Western Africa   \n",
       "\n",
       "   country   admin1     admin2 location  latitude  longitude  geo_precision  \\\n",
       "0  Nigeria  Plateau  Jos South    Zawan      9.75     8.8667              1   \n",
       "\n",
       "             source source_scale  \\\n",
       "0  Vanguard (Lagos)  Subnational   \n",
       "\n",
       "                                               notes  fatalities   timestamp  \\\n",
       "0  At least 14 people were reportedly killed and ...          14  1518765568   \n",
       "\n",
       "  iso3  \n",
       "0  NGA  "
      ]
     },
     "execution_count": 224,
     "metadata": {},
     "output_type": "execute_result"
    }
   ],
   "source": [
    "df.head(1)"
   ]
  },
  {
   "cell_type": "code",
   "execution_count": 225,
   "metadata": {},
   "outputs": [
    {
     "data": {
      "text/plain": [
       "data_id                      int64\n",
       "iso                          int64\n",
       "event_id_cnty               object\n",
       "event_id_no_cnty             int64\n",
       "event_date          datetime64[ns]\n",
       "year                         int64\n",
       "time_precision               int64\n",
       "event_type                  object\n",
       "actor1                      object\n",
       "inter1                       int64\n",
       "interaction                  int64\n",
       "region                      object\n",
       "country                     object\n",
       "admin1                      object\n",
       "admin2                      object\n",
       "location                    object\n",
       "latitude                   float64\n",
       "longitude                  float64\n",
       "geo_precision                int64\n",
       "source                      object\n",
       "source_scale                object\n",
       "notes                       object\n",
       "fatalities                   int64\n",
       "timestamp                    int64\n",
       "iso3                        object\n",
       "dtype: object"
      ]
     },
     "execution_count": 225,
     "metadata": {},
     "output_type": "execute_result"
    }
   ],
   "source": [
    "df.dtypes"
   ]
  },
  {
   "cell_type": "code",
   "execution_count": 226,
   "metadata": {},
   "outputs": [
    {
     "name": "stdout",
     "output_type": "stream",
     "text": [
      "2018-02-16 12:19:28\n"
     ]
    }
   ],
   "source": [
    "import datetime\n",
    "\n",
    "# Convert Unix timestamp to a datetime object\n",
    "timestamp = 1518765568\n",
    "dt_object = datetime.datetime.fromtimestamp(timestamp)\n",
    "\n",
    "# Print the datetime object\n",
    "print(dt_object)\n"
   ]
  },
  {
   "cell_type": "code",
   "execution_count": 227,
   "metadata": {},
   "outputs": [],
   "source": [
    "df.to_csv(\"cleaned_Fulani Ethnic Militia Attacks - Location & Event Data - Jan 1 - Dec 31 2015_Nigeria.csv\")"
   ]
  },
  {
   "cell_type": "code",
   "execution_count": null,
   "metadata": {},
   "outputs": [],
   "source": []
  }
 ],
 "metadata": {
  "kernelspec": {
   "display_name": "Python 3",
   "language": "python",
   "name": "python3"
  },
  "language_info": {
   "codemirror_mode": {
    "name": "ipython",
    "version": 3
   },
   "file_extension": ".py",
   "mimetype": "text/x-python",
   "name": "python",
   "nbconvert_exporter": "python",
   "pygments_lexer": "ipython3",
   "version": "3.10.8"
  },
  "orig_nbformat": 4
 },
 "nbformat": 4,
 "nbformat_minor": 2
}
