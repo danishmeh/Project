{
 "cells": [
  {
   "cell_type": "code",
   "execution_count": 1,
   "metadata": {},
   "outputs": [],
   "source": [
    "import pandas as pd \n",
    "import numpy as np "
   ]
  },
  {
   "cell_type": "code",
   "execution_count": 2,
   "metadata": {},
   "outputs": [
    {
     "data": {
      "text/html": [
       "<div>\n",
       "<style scoped>\n",
       "    .dataframe tbody tr th:only-of-type {\n",
       "        vertical-align: middle;\n",
       "    }\n",
       "\n",
       "    .dataframe tbody tr th {\n",
       "        vertical-align: top;\n",
       "    }\n",
       "\n",
       "    .dataframe thead th {\n",
       "        text-align: right;\n",
       "    }\n",
       "</style>\n",
       "<table border=\"1\" class=\"dataframe\">\n",
       "  <thead>\n",
       "    <tr style=\"text-align: right;\">\n",
       "      <th></th>\n",
       "      <th>State</th>\n",
       "      <th>Cocaine</th>\n",
       "      <th>Heroin</th>\n",
       "      <th>Cannabis</th>\n",
       "      <th>Methamphetamine</th>\n",
       "      <th>Amphetamine</th>\n",
       "      <th>Ephedrine</th>\n",
       "      <th>Tramadol</th>\n",
       "      <th>Cough Syrup Codeine</th>\n",
       "      <th>Benzodiazapine</th>\n",
       "      <th>Khat</th>\n",
       "      <th>Opiods</th>\n",
       "      <th>Opiates</th>\n",
       "      <th>Barbiturates</th>\n",
       "      <th>Others</th>\n",
       "    </tr>\n",
       "  </thead>\n",
       "  <tbody>\n",
       "    <tr>\n",
       "      <th>0</th>\n",
       "      <td>Abia</td>\n",
       "      <td>0.16</td>\n",
       "      <td>1.63</td>\n",
       "      <td>407.72</td>\n",
       "      <td>0.00</td>\n",
       "      <td>0</td>\n",
       "      <td>0.0</td>\n",
       "      <td>23.70</td>\n",
       "      <td>6.10</td>\n",
       "      <td>0.70</td>\n",
       "      <td>0.0</td>\n",
       "      <td>0.00</td>\n",
       "      <td>0.00</td>\n",
       "      <td>0.0</td>\n",
       "      <td>6.63</td>\n",
       "    </tr>\n",
       "    <tr>\n",
       "      <th>1</th>\n",
       "      <td>Adamawa</td>\n",
       "      <td>0.00</td>\n",
       "      <td>0.00</td>\n",
       "      <td>183.14</td>\n",
       "      <td>0.00</td>\n",
       "      <td>0</td>\n",
       "      <td>0.0</td>\n",
       "      <td>1500.97</td>\n",
       "      <td>513.34</td>\n",
       "      <td>5.52</td>\n",
       "      <td>0.0</td>\n",
       "      <td>8.03</td>\n",
       "      <td>2.45</td>\n",
       "      <td>1.4</td>\n",
       "      <td>21.00</td>\n",
       "    </tr>\n",
       "    <tr>\n",
       "      <th>2</th>\n",
       "      <td>Akwa Ibom</td>\n",
       "      <td>0.02</td>\n",
       "      <td>0.94</td>\n",
       "      <td>504.96</td>\n",
       "      <td>0.00</td>\n",
       "      <td>0</td>\n",
       "      <td>0.0</td>\n",
       "      <td>4.96</td>\n",
       "      <td>0.00</td>\n",
       "      <td>3.57</td>\n",
       "      <td>0.0</td>\n",
       "      <td>0.00</td>\n",
       "      <td>0.00</td>\n",
       "      <td>0.0</td>\n",
       "      <td>0.19</td>\n",
       "    </tr>\n",
       "    <tr>\n",
       "      <th>3</th>\n",
       "      <td>Anambra</td>\n",
       "      <td>0.37</td>\n",
       "      <td>0.03</td>\n",
       "      <td>457.58</td>\n",
       "      <td>0.07</td>\n",
       "      <td>0</td>\n",
       "      <td>0.0</td>\n",
       "      <td>0.25</td>\n",
       "      <td>0.02</td>\n",
       "      <td>1.28</td>\n",
       "      <td>0.0</td>\n",
       "      <td>0.00</td>\n",
       "      <td>0.00</td>\n",
       "      <td>0.0</td>\n",
       "      <td>0.00</td>\n",
       "    </tr>\n",
       "    <tr>\n",
       "      <th>4</th>\n",
       "      <td>Bauchi</td>\n",
       "      <td>0.00</td>\n",
       "      <td>0.00</td>\n",
       "      <td>1793.03</td>\n",
       "      <td>0.00</td>\n",
       "      <td>0</td>\n",
       "      <td>0.0</td>\n",
       "      <td>393.68</td>\n",
       "      <td>806.63</td>\n",
       "      <td>321.33</td>\n",
       "      <td>0.0</td>\n",
       "      <td>22.50</td>\n",
       "      <td>0.00</td>\n",
       "      <td>0.0</td>\n",
       "      <td>24.61</td>\n",
       "    </tr>\n",
       "  </tbody>\n",
       "</table>\n",
       "</div>"
      ],
      "text/plain": [
       "       State  Cocaine  Heroin  Cannabis  Methamphetamine  Amphetamine  \\\n",
       "0       Abia     0.16    1.63    407.72             0.00            0   \n",
       "1    Adamawa     0.00    0.00    183.14             0.00            0   \n",
       "2  Akwa Ibom     0.02    0.94    504.96             0.00            0   \n",
       "3    Anambra     0.37    0.03    457.58             0.07            0   \n",
       "4     Bauchi     0.00    0.00   1793.03             0.00            0   \n",
       "\n",
       "   Ephedrine  Tramadol  Cough Syrup Codeine  Benzodiazapine  Khat  Opiods  \\\n",
       "0        0.0     23.70                 6.10            0.70   0.0    0.00   \n",
       "1        0.0   1500.97               513.34            5.52   0.0    8.03   \n",
       "2        0.0      4.96                 0.00            3.57   0.0    0.00   \n",
       "3        0.0      0.25                 0.02            1.28   0.0    0.00   \n",
       "4        0.0    393.68               806.63          321.33   0.0   22.50   \n",
       "\n",
       "   Opiates  Barbiturates  Others  \n",
       "0     0.00           0.0    6.63  \n",
       "1     2.45           1.4   21.00  \n",
       "2     0.00           0.0    0.19  \n",
       "3     0.00           0.0    0.00  \n",
       "4     0.00           0.0   24.61  "
      ]
     },
     "execution_count": 2,
     "metadata": {},
     "output_type": "execute_result"
    }
   ],
   "source": [
    "df = pd.read_excel(\"drug-use-in-nigeria-by-state.xlsx\")\n",
    "df.head()"
   ]
  },
  {
   "cell_type": "code",
   "execution_count": 3,
   "metadata": {},
   "outputs": [
    {
     "data": {
      "text/plain": [
       "(38, 15)"
      ]
     },
     "execution_count": 3,
     "metadata": {},
     "output_type": "execute_result"
    }
   ],
   "source": [
    "df.shape"
   ]
  },
  {
   "cell_type": "code",
   "execution_count": 4,
   "metadata": {},
   "outputs": [
    {
     "data": {
      "text/plain": [
       "State                  0\n",
       "Cocaine                0\n",
       "Heroin                 0\n",
       "Cannabis               0\n",
       "Methamphetamine        0\n",
       "Amphetamine            0\n",
       "Ephedrine              0\n",
       "Tramadol               0\n",
       "Cough Syrup Codeine    0\n",
       "Benzodiazapine         0\n",
       "Khat                   0\n",
       "Opiods                 0\n",
       "Opiates                0\n",
       "Barbiturates           0\n",
       "Others                 0\n",
       "dtype: int64"
      ]
     },
     "execution_count": 4,
     "metadata": {},
     "output_type": "execute_result"
    }
   ],
   "source": [
    "df.isnull().sum()"
   ]
  },
  {
   "cell_type": "code",
   "execution_count": 5,
   "metadata": {},
   "outputs": [
    {
     "data": {
      "text/plain": [
       "State                   object\n",
       "Cocaine                float64\n",
       "Heroin                 float64\n",
       "Cannabis               float64\n",
       "Methamphetamine        float64\n",
       "Amphetamine              int64\n",
       "Ephedrine              float64\n",
       "Tramadol               float64\n",
       "Cough Syrup Codeine    float64\n",
       "Benzodiazapine         float64\n",
       "Khat                   float64\n",
       "Opiods                 float64\n",
       "Opiates                float64\n",
       "Barbiturates           float64\n",
       "Others                 float64\n",
       "dtype: object"
      ]
     },
     "execution_count": 5,
     "metadata": {},
     "output_type": "execute_result"
    }
   ],
   "source": [
    "df.dtypes"
   ]
  },
  {
   "cell_type": "code",
   "execution_count": 7,
   "metadata": {},
   "outputs": [
    {
     "data": {
      "text/plain": [
       "0"
      ]
     },
     "execution_count": 7,
     "metadata": {},
     "output_type": "execute_result"
    }
   ],
   "source": []
  },
  {
   "cell_type": "code",
   "execution_count": null,
   "metadata": {},
   "outputs": [],
   "source": []
  },
  {
   "cell_type": "code",
   "execution_count": null,
   "metadata": {},
   "outputs": [],
   "source": []
  }
 ],
 "metadata": {
  "kernelspec": {
   "display_name": "Python 3",
   "language": "python",
   "name": "python3"
  },
  "language_info": {
   "codemirror_mode": {
    "name": "ipython",
    "version": 3
   },
   "file_extension": ".py",
   "mimetype": "text/x-python",
   "name": "python",
   "nbconvert_exporter": "python",
   "pygments_lexer": "ipython3",
   "version": "3.10.8"
  },
  "orig_nbformat": 4
 },
 "nbformat": 4,
 "nbformat_minor": 2
}
